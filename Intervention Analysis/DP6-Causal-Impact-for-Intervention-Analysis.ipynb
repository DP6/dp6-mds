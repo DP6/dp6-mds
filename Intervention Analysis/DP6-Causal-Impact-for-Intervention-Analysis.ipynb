{
 "cells": [
  {
   "cell_type": "markdown",
   "metadata": {},
   "source": [
    "# _Causal Impact_ para Análise de Intervenção no contexto temporal\n",
    "\n",
    "O _CausalImpact_ é um pacote em R usado para inferência causal usando modelos de séries temporais. O objetivo é estimar o efeito causal de uma intervenção em uma série temporal.\n",
    "\n",
    "## 1. Como funciona?\n",
    "   Dada uma resposta em uma série temporal e um conjunto de séries temporais de controle, o pacote constrói um modelo de série temporal. Este modelo é então usado para prever o contrafactual, ou seja, como a métrica de resposta teria acontecido após a intervenção se a intervenção não tivesse acontecido.\n",
    "\n",
    "#### Pressupostos\n",
    "   O principal pressuposto é que existe um conjunto de séries temporais que não foram afetadas pela intervenção. Se tiverem, podemos erroneamente sub ou superestimar o verdadeiro efeito. Ou podemos concluir erroneamente que houve o efeito mesmo que o mesmo não tenha ocorrido.\n",
    "\n",
    "\n",
    "\n",
    "## 2. Configuração\n",
    "Para rodar o modelo, são necessárias três bibliotecas: _stringr_, _CausalImpact_ e _lubridate_"
   ]
  },
  {
   "cell_type": "markdown",
   "metadata": {},
   "source": [
    "Instalação das bibliotecas"
   ]
  },
  {
   "cell_type": "code",
   "execution_count": 87,
   "metadata": {
    "collapsed": true
   },
   "outputs": [
   ],
   "source": [
    "install.packages(\"stringr\")\n",
    "install.packages(\"CausalImpact\")\n",
    "install.packages(\"lubridate\")"
   ]
  },
  {
   "cell_type": "markdown",
   "metadata": {},
   "source": [
    "Importação das bibliotecas para a análise"
   ]
  },
  {
   "cell_type": "code",
   "execution_count": 1,
   "metadata": {
    "collapsed": true
   },
   "outputs": [
   ],
   "source": [
    "library('stringr')\n",
    "library('CausalImpact')\n",
    "library('lubridate')"
   ]
  },
  {
   "cell_type": "markdown",
   "metadata": {},
   "source": [
    "Configuração do diretório de trabalho"
   ]
  },
  {
   "cell_type": "code",
   "execution_count": 49,
   "metadata": {
    "collapsed": true
   },
   "outputs": [
   ],
   "source": [
    "setwd(\"/caminho/para/arquivo\")"
   ]
  },
  {
   "cell_type": "markdown",
   "metadata": {},
   "source": [
    "Upload e análise da base \n",
    "A base deve conter uma coluna para data e outra para o que está se medindo (conversões, sessões, microconversions) ordenada por data, por exemplo:\n",
    "\n",
    "| Data (YYYY-MM-DD) | Sessões |\n",
    "|-------------------|---------|\n",
    "| 2019-01-01        |       X |\n",
    "| 2019-01-02        |       Y |\n",
    "| 2019-01-03        |       Z |\n",
    "| ...               |     ... |"
   ]
  },
  {
   "cell_type": "code",
   "execution_count": 48,
   "metadata": {},
   "outputs": [
    {
     "data": {
      "text/html": [
       "<table>\n",
       "<caption>A data.frame: 6 × 6</caption>\n",
       "<thead>\n",
       "\t<tr><th scope=col>Date</th><th scope=col>California</th><th scope=col>New.York</th><th scope=col>Texas</th><th scope=col>Washington</th><th scope=col>Illinois</th></tr>\n",
       "\t<tr><th scope=col>&lt;date&gt;</th><th scope=col>&lt;int&gt;</th><th scope=col>&lt;int&gt;</th><th scope=col>&lt;int&gt;</th><th scope=col>&lt;int&gt;</th><th scope=col>&lt;int&gt;</th></tr>\n",
       "</thead>\n",
       "<tbody>\n",
       "\t<tr><td>2019-01-01</td><td>266</td><td> 42</td><td>33</td><td>31</td><td>20</td></tr>\n",
       "\t<tr><td>2019-01-02</td><td>726</td><td>113</td><td>86</td><td>42</td><td>46</td></tr>\n",
       "\t<tr><td>2019-01-03</td><td>552</td><td> 90</td><td>71</td><td>52</td><td>38</td></tr>\n",
       "\t<tr><td>2019-01-04</td><td>549</td><td>103</td><td>63</td><td>25</td><td>32</td></tr>\n",
       "\t<tr><td>2019-01-05</td><td>269</td><td> 61</td><td>24</td><td>24</td><td>24</td></tr>\n",
       "\t<tr><td>2019-01-06</td><td>302</td><td> 58</td><td>32</td><td>28</td><td>22</td></tr>\n",
       "</tbody>\n",
       "</table>\n"
      ],
      "text/latex": [
       "A data.frame: 6 × 6\n",
       "\\begin{tabular}{r|llllll}\n",
       " Date & California & New.York & Texas & Washington & Illinois\\\\\n",
       " <date> & <int> & <int> & <int> & <int> & <int>\\\\\n",
       "\\hline\n",
       "\t 2019-01-01 & 266 &  42 & 33 & 31 & 20\\\\\n",
       "\t 2019-01-02 & 726 & 113 & 86 & 42 & 46\\\\\n",
       "\t 2019-01-03 & 552 &  90 & 71 & 52 & 38\\\\\n",
       "\t 2019-01-04 & 549 & 103 & 63 & 25 & 32\\\\\n",
       "\t 2019-01-05 & 269 &  61 & 24 & 24 & 24\\\\\n",
       "\t 2019-01-06 & 302 &  58 & 32 & 28 & 22\\\\\n",
       "\\end{tabular}\n"
      ],
      "text/markdown": [
       "\n",
       "A data.frame: 6 × 6\n",
       "\n",
       "| Date &lt;date&gt; | California &lt;int&gt; | New.York &lt;int&gt; | Texas &lt;int&gt; | Washington &lt;int&gt; | Illinois &lt;int&gt; |\n",
       "|---|---|---|---|---|---|\n",
       "| 2019-01-01 | 266 |  42 | 33 | 31 | 20 |\n",
       "| 2019-01-02 | 726 | 113 | 86 | 42 | 46 |\n",
       "| 2019-01-03 | 552 |  90 | 71 | 52 | 38 |\n",
       "| 2019-01-04 | 549 | 103 | 63 | 25 | 32 |\n",
       "| 2019-01-05 | 269 |  61 | 24 | 24 | 24 |\n",
       "| 2019-01-06 | 302 |  58 | 32 | 28 | 22 |\n",
       "\n"
      ],
      "text/plain": [
       "  Date       California New.York Texas Washington Illinois\n",
       "1 2019-01-01 266         42      33    31         20      \n",
       "2 2019-01-02 726        113      86    42         46      \n",
       "3 2019-01-03 552         90      71    52         38      \n",
       "4 2019-01-04 549        103      63    25         32      \n",
       "5 2019-01-05 269         61      24    24         24      \n",
       "6 2019-01-06 302         58      32    28         22      "
      ]
     },
     "metadata": {},
     "output_type": "display_data"
    }
   ],
   "source": [
    "base <- read.csv(\"arquivo_entrada.csv\") \n",
    "base[[1]] <- as.Date(base[[1]])\n",
    "head(base)"
   ]
  },
  {
   "cell_type": "markdown",
   "metadata": {},
   "source": [
    "A nossa base é composta por séries temporais em que cada coluna representa uma variável alvo de um estado. Os dados são de conversões da _Google Merchandising Store_."
   ]
  },
  {
   "cell_type": "markdown",
   "metadata": {},
   "source": [
    "#### Criando uma intervenção\n",
    "Para mostrar o _CausalImpact_ em funcionamento, simularemos o efeito de uma intervenção a partir do dia 01/03/2019"
   ]
  },
  {
   "cell_type": "code",
   "execution_count": 32,
   "metadata": {},
   "outputs": [],
   "source": [
    "base[60:nrow(base),2] <- base[60:nrow(base),2] + floor(runif(1, min=10, max=50))"
   ]
  },
  {
   "cell_type": "markdown",
   "metadata": {},
   "source": [
    "## 3. Tratamento Base\n",
    "Criação da coluna de datas no formato do _CausalImpact_, começando em janeiro/19"
   ]
  },
  {
   "cell_type": "code",
   "execution_count": 33,
   "metadata": {},
   "outputs": [],
   "source": [
    "time.points <- seq.Date(as.Date(\"2019-01-01\"), by = 1, length.out = nrow(base))"
   ]
  },
  {
   "cell_type": "markdown",
   "metadata": {},
   "source": [
    "União da coluna de conversões e a coluna de data no formato feito no passo anterior"
   ]
  },
  {
   "cell_type": "code",
   "execution_count": 34,
   "metadata": {},
   "outputs": [],
   "source": [
    "df = zoo(base[,2], time.points)"
   ]
  },
  {
   "cell_type": "markdown",
   "metadata": {},
   "source": [
    "Definindo o pré-período "
   ]
  },
  {
   "cell_type": "code",
   "execution_count": 36,
   "metadata": {},
   "outputs": [],
   "source": [
    "pre.period <- as.Date(c(\"2019-01-01\", \"2019-02-28\"))"
   ]
  },
  {
   "cell_type": "markdown",
   "metadata": {},
   "source": [
    "Definindo o pós-período"
   ]
  },
  {
   "cell_type": "code",
   "execution_count": 37,
   "metadata": {},
   "outputs": [],
   "source": [
    "post.period <- as.Date(c(\"2019-03-01\", \"2019-04-01\"))"
   ]
  },
  {
   "cell_type": "markdown",
   "metadata": {},
   "source": [
    "## 4. Modelos no _CausalImpact_\n",
    "### 4. 1. Modelo simplificado\n",
    "#### Execução do modelo e visualização dos resultados"
   ]
  },
  {
   "cell_type": "code",
   "execution_count": 38,
   "metadata": {},
   "outputs": [],
   "source": [
    "impact = CausalImpact(df, pre.period, post.period, list(niter=5000, nseasons=7))"
   ]
  },
  {
   "cell_type": "markdown",
   "metadata": {},
   "source": [
    "Plotando o gráfico"
   ]
  },
  {
   "cell_type": "code",
   "execution_count": 39,
   "metadata": {},
   "outputs": [
    {
     "data": {
      "image/png": "[encoded data removed]",
      "text/plain": [
       "plot without title"
      ]
     },
     "metadata": {},
     "output_type": "display_data"
    }
   ],
   "source": [
    "plot(impact)"
   ]
  },
  {
   "cell_type": "markdown",
   "metadata": {},
   "source": [
    "- O **primeiro gráfico** acima representa as curvas realizada (em contínuo preto) com a prevista (pontilhada preta).\n",
    "- O **segundo gráfico** mostra a diferença entre as curvas realizada e prevista.\n",
    "- O **terceiro gráfico** representa a soma cumulativa diária da diferença entre o previsto e realizado. "
   ]
  },
  {
   "cell_type": "markdown",
   "metadata": {},
   "source": [
    "Resumo dos resultados do _CausalImpact_ e relatório dos resultados:"
   ]
  },
  {
   "cell_type": "code",
   "execution_count": 40,
   "metadata": {},
   "outputs": [
    {
     "name": "stdout",
     "output_type": "stream",
     "text": [
      "Posterior inference {CausalImpact}\n",
      "\n",
      "                         Average       Cumulative    \n",
      "Actual                   516           16505         \n",
      "Prediction (s.d.)        443 (21)      14164 (682)   \n",
      "95% CI                   [402, 486]    [12862, 15550]\n",
      "                                                     \n",
      "Absolute effect (s.d.)   73 (21)       2341 (682)    \n",
      "95% CI                   [30, 114]     [955, 3643]   \n",
      "                                                     \n",
      "Relative effect (s.d.)   17% (4.8%)    17% (4.8%)    \n",
      "95% CI                   [6.7%, 26%]   [6.7%, 26%]   \n",
      "\n",
      "Posterior tail-area probability p:   6e-04\n",
      "Posterior prob. of a causal effect:  99.93999%\n",
      "\n",
      "For more details, type: summary(impact, \"report\")\n",
      "\n"
     ]
    }
   ],
   "source": [
    "summary(impact)"
   ]
  },
  {
   "cell_type": "markdown",
   "metadata": {},
   "source": [
    "Analisando os resultados, vemos que no efeito cumulativo pós-intervenção (janela de 01/03 a 31/03/2019), houve um aumento de  17% nas conversões, com significância estatística. O desvio padrão observado foi de 21."
   ]
  },
  {
   "cell_type": "markdown",
   "metadata": {},
   "source": [
    "#### Exportação dos resultados"
   ]
  },
  {
   "cell_type": "code",
   "execution_count": 19,
   "metadata": {},
   "outputs": [],
   "source": [
    "write.csv(impact$report, file='report.txt')\n",
    "write.csv(impact$summary, file='summary.csv')\n",
    "write.csv(impact$series, file='series.csv')"
   ]
  },
  {
   "cell_type": "markdown",
   "metadata": {},
   "source": [
    "### 4. 2. Modelo Incluindo Regressores\n",
    "\n",
    "Uma forma de melhorar o modelo é fornecendo uma ou mais covariáveis de forma que elas realizem uma regressão na nossa variável de resposta. Iremos usar as séries temporais de conversões de outros estados americanos para explicar a nossa série alvo: conversões da Califórnia."
   ]
  },
  {
   "cell_type": "markdown",
   "metadata": {},
   "source": [
    "#### Seleção da coluna de data e das colunas-alvo, sendo uma coluna para cada variável regressora\n",
    "A primeira coluna representa a coluna-alvo do local onde houve intervenção. Demais colunas representam grupos de controle."
   ]
  },
  {
   "cell_type": "code",
   "execution_count": 42,
   "metadata": {},
   "outputs": [],
   "source": [
    "df = zoo(base[,2:length(base)], time.points) "
   ]
  },
  {
   "cell_type": "markdown",
   "metadata": {},
   "source": [
    "#### Definindo pré e pós-períodos"
   ]
  },
  {
   "cell_type": "code",
   "execution_count": 43,
   "metadata": {},
   "outputs": [],
   "source": [
    "pre.period <- as.Date(c(\"2019-01-01\", \"2019-02-28\"))\n",
    "post.period <- as.Date(c(\"2019-03-01\", \"2019-04-01\"))"
   ]
  },
  {
   "cell_type": "markdown",
   "metadata": {},
   "source": [
    "#### Causal Impact para Conversões"
   ]
  },
  {
   "cell_type": "code",
   "execution_count": 44,
   "metadata": {},
   "outputs": [
    {
     "data": {
      "image/png": "[encoded data removed]",
      "text/plain": [
       "plot without title"
      ]
     },
     "metadata": {},
     "output_type": "display_data"
    }
   ],
   "source": [
    "impact = CausalImpact(df, pre.period, post.period, list(niter=5000, nseasons=7))\n",
    "plot(impact)"
   ]
  },
  {
   "cell_type": "code",
   "execution_count": 45,
   "metadata": {
    "scrolled": true
   },
   "outputs": [
    {
     "name": "stdout",
     "output_type": "stream",
     "text": [
      "Posterior inference {CausalImpact}\n",
      "\n",
      "                         Average       Cumulative    \n",
      "Actual                   516           16505         \n",
      "Prediction (s.d.)        457 (19)      14611 (618)   \n",
      "95% CI                   [419, 495]    [13406, 15825]\n",
      "                                                     \n",
      "Absolute effect (s.d.)   59 (19)       1894 (618)    \n",
      "95% CI                   [21, 97]      [680, 3099]   \n",
      "                                                     \n",
      "Relative effect (s.d.)   13% (4.2%)    13% (4.2%)    \n",
      "95% CI                   [4.7%, 21%]   [4.7%, 21%]   \n",
      "\n",
      "Posterior tail-area probability p:   0.0014\n",
      "Posterior prob. of a causal effect:  99.85978%\n",
      "\n",
      "For more details, type: summary(impact, \"report\")\n",
      "\n"
     ]
    }
   ],
   "source": [
    "summary(impact)"
   ]
  },
  {
   "cell_type": "markdown",
   "metadata": {},
   "source": [
    "Utilizando as outras cidades como regressores, vemos em relação ao modelo simples que o desvio padrão caiu de 21 para 19. Houve um aumento de 13% nas conversões, com um intervalo de confiança entre 4,7% e 21%."
   ]
  },
  {
   "cell_type": "markdown",
   "metadata": {},
   "source": [
    "#### Exportação dos resultados"
   ]
  },
  {
   "cell_type": "code",
   "execution_count": 104,
   "metadata": {},
   "outputs": [],
   "source": [
    "write.csv(impact$report, file='report_regressores.txt')\n",
    "write.csv(impact$summary, file='summary_regressores.csv')\n",
    "write.csv(impact$series, file='series_regressores.csv')"
   ]
  },
  {
   "cell_type": "markdown",
   "metadata": {},
   "source": [
    "## 4. Referências\n",
    "CausalImpact 1.2.3, Brodersen et al., Annals of Applied Statistics (2015). http://google.github.io/CausalImpact/"
   ]
  }
 ],
 "metadata": {
  "kernelspec": {
   "display_name": "R",
   "language": "R",
   "name": "ir"
  },
  "language_info": {
   "codemirror_mode": "r",
   "file_extension": ".r",
   "mimetype": "text/x-r-source",
   "name": "R",
   "pygments_lexer": "r",
   "version": "3.5.1"
  }
 },
 "nbformat": 4,
 "nbformat_minor": 2
}
